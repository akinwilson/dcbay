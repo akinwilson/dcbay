{
 "cells": [
  {
   "attachments": {},
   "cell_type": "markdown",
   "metadata": {},
   "source": [
    "# Wallets: utxo updates, accounts, multi-signature etc. "
   ]
  },
  {
   "cell_type": "code",
   "execution_count": null,
   "metadata": {},
   "outputs": [],
   "source": [
    "!pip install git+https://github.com/trezor/python-mnemonic.git\n",
    "!pip install bip32utils"
   ]
  },
  {
   "cell_type": "code",
   "execution_count": 8,
   "metadata": {},
   "outputs": [
    {
     "name": "stdout",
     "output_type": "stream",
     "text": [
      "=== WALLET ===\n",
      " ID                             4\n",
      " Name                           Dev1\n",
      " Owner                          \n",
      " Scheme                         bip32\n",
      " Multisig                       False\n",
      " Witness type                   legacy\n",
      " Main network                   bitcoin\n",
      " Latest update                  None\n",
      "\n",
      "= Wallet Master Key =\n",
      " ID                             5567\n",
      " Private                        True\n",
      " Depth                          0\n",
      "\n",
      "- NETWORK: bitcoin -\n",
      "- - Keys\n",
      " 5572 m/44'/0'/0'/0/0              199edNcXxbnbhxf2idEf2K1Dnm5PH597Vb            address index 0                        0.00000000 ₿\n",
      "\n",
      "- - Transactions Account 0 (0)\n",
      "\n",
      "= Balance Totals (includes unconfirmed) =\n",
      "\n",
      "\n"
     ]
    }
   ],
   "source": [
    "from bitcoinlib.wallets import Wallet, wallet_create_or_open\n",
    "\n",
    "# w = Wallet.create(\"Dev1\")\n",
    "# [x for x in dir(Wallet) if \"__\" not in x ]\n",
    "w = wallet_create_or_open(\"Dev1\", network=\"testnet\")\n",
    "w.info()"
   ]
  }
 ],
 "metadata": {
  "kernelspec": {
   "display_name": "website-RwY1jJ-q",
   "language": "python",
   "name": "website-rwy1jj-q"
  },
  "language_info": {
   "codemirror_mode": {
    "name": "ipython",
    "version": 3
   },
   "file_extension": ".py",
   "mimetype": "text/x-python",
   "name": "python",
   "nbconvert_exporter": "python",
   "pygments_lexer": "ipython3",
   "version": "3.10.6"
  },
  "orig_nbformat": 4
 },
 "nbformat": 4,
 "nbformat_minor": 2
}
