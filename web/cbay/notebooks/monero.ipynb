{
 "cells": [
  {
   "cell_type": "code",
   "execution_count": null,
   "metadata": {},
   "outputs": [],
   "source": [
    "!pip install git+https://github.com/monero-ecosystem/monero-python.git"
   ]
  },
  {
   "cell_type": "markdown",
   "metadata": {},
   "source": [
    "Start the daemon\n",
    "\n",
    "```\n",
    "monerod --testnet\n",
    "```\n",
    "\n",
    "create a wallet \n",
    "```\n",
    "monero-wallet-cli --testnet --generate-new-wallet MoneroWallet\n",
    "```\n",
    "outputs \n",
    "```\n",
    "MoneroWallet\n",
    "Generated new wallet: 9xnmJTcatTe6hpU1G2yW9bKUKExZQiNPQRYmfv2E57hvMazXtc7rYBFio9BdN1d8FyH1DSyBtdHHhKaemESS69M6PkryU2L\n",
    "View key: befbfac1b4c91366f567878b46616635b468242e6b647cba0156406947c27e07\n",
    "...\n",
    "Memonic:\n",
    "\n",
    "teardrop getting venomous yawning bowling drowning geometry rugged\n",
    "hacksaw utensils toenail vials hoax jackets vastness water\n",
    "energy prying tapestry tonic budget gown fainted geometry teardrop\n",
    "\n",
    "MoneroWallet2\n",
    "Generated new wallet: 9xChWwNe3iJ6q3teNCsvDWWVStgt7bdhm62YgKxLfTgnjdd3yN6AUiB8SxbY5X7MH64psSaSQ3UyFHbGwqZCLn7GJcgjD5t\n",
    "View key: b58d49bff0dddc780b02044ca44d843b661eb9002061db97600bfc928e8fc709\n",
    "\n",
    "Memonic \n",
    "\n",
    "pylons nucleus jellyfish system much robot knowledge anxiety\n",
    "terminal inline abrasive sawmill weavers sword sanity comb\n",
    "axle lower goblet eagle july duties bomb chrome nucleus\n",
    "```\n",
    "\n",
    "\n",
    "start the [RPC server](https://www.techopedia.com/definition/29807/remote-procedural-call-server-rpc-server) to allow us to use python \n",
    "```\n",
    "monero-wallet-rpc --testnet --wallet-file MoneroWallet --password testing --rpc-bind-port 28088 --disable-rpc-login\n",
    " \n",
    "```"
   ]
  },
  {
   "cell_type": "code",
   "execution_count": 10,
   "metadata": {},
   "outputs": [
    {
     "data": {
      "text/plain": [
       "['__class__',\n",
       " '__delattr__',\n",
       " '__dict__',\n",
       " '__dir__',\n",
       " '__doc__',\n",
       " '__eq__',\n",
       " '__format__',\n",
       " '__ge__',\n",
       " '__getattribute__',\n",
       " '__gt__',\n",
       " '__hash__',\n",
       " '__init__',\n",
       " '__init_subclass__',\n",
       " '__le__',\n",
       " '__lt__',\n",
       " '__module__',\n",
       " '__ne__',\n",
       " '__new__',\n",
       " '__reduce__',\n",
       " '__reduce_ex__',\n",
       " '__repr__',\n",
       " '__setattr__',\n",
       " '__sizeof__',\n",
       " '__str__',\n",
       " '__subclasshook__',\n",
       " '__weakref__',\n",
       " '_backend',\n",
       " 'accounts',\n",
       " 'address',\n",
       " 'address_balance',\n",
       " 'addresses',\n",
       " 'balance',\n",
       " 'balances',\n",
       " 'confirmations',\n",
       " 'export_key_images',\n",
       " 'export_outputs',\n",
       " 'get_address',\n",
       " 'height',\n",
       " 'import_key_images',\n",
       " 'import_outputs',\n",
       " 'incoming',\n",
       " 'new_account',\n",
       " 'new_address',\n",
       " 'outgoing',\n",
       " 'refresh',\n",
       " 'seed',\n",
       " 'spend_key',\n",
       " 'sweep_all',\n",
       " 'transfer',\n",
       " 'transfer_multiple',\n",
       " 'view_key']"
      ]
     },
     "execution_count": 10,
     "metadata": {},
     "output_type": "execute_result"
    }
   ],
   "source": [
    "from monero.wallet import Wallet\n",
    "from monero.backends.jsonrpc import JSONRPCWallet\n",
    "w = Wallet(JSONRPCWallet(port=28088))\n",
    "dir(w)"
   ]
  },
  {
   "cell_type": "code",
   "execution_count": null,
   "metadata": {},
   "outputs": [],
   "source": []
  },
  {
   "cell_type": "code",
   "execution_count": null,
   "metadata": {},
   "outputs": [],
   "source": []
  },
  {
   "cell_type": "code",
   "execution_count": null,
   "metadata": {},
   "outputs": [],
   "source": [
    "from monero.wallet import Wallet"
   ]
  }
 ],
 "metadata": {
  "kernelspec": {
   "display_name": "website-RwY1jJ-q",
   "language": "python",
   "name": "website-rwy1jj-q"
  },
  "language_info": {
   "codemirror_mode": {
    "name": "ipython",
    "version": 3
   },
   "file_extension": ".py",
   "mimetype": "text/x-python",
   "name": "python",
   "nbconvert_exporter": "python",
   "pygments_lexer": "ipython3",
   "version": "3.10.6"
  },
  "orig_nbformat": 4
 },
 "nbformat": 4,
 "nbformat_minor": 2
}
